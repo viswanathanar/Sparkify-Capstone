{
 "cells": [
  {
   "cell_type": "code",
   "execution_count": 1,
   "metadata": {},
   "outputs": [],
   "source": [
    "import findspark\n",
    "findspark.init()"
   ]
  },
  {
   "cell_type": "code",
   "execution_count": 2,
   "metadata": {},
   "outputs": [],
   "source": [
    "import Modeling as m"
   ]
  },
  {
   "cell_type": "code",
   "execution_count": 3,
   "metadata": {},
   "outputs": [
    {
     "name": "stdout",
     "output_type": "stream",
     "text": [
      "Loading the input data...\n",
      "Cleaning the input data...\n",
      "Building model for predicting this label:  ChurnedInTimeBin\n",
      "Building Logistic Regression Model...\n",
      "[*] Best LR Model AUC PR: 0.49066523754023755\n",
      "[*] Best LR Model Intercept:  0.3662756456007869\n",
      "[*] Best LR Model Param (maxIter):  10\n",
      "[*] Best LR Model Param (regParam):  0.0\n",
      "[*] Best LR Model Param (elasticNetParam):  0.0\n",
      "[*] Best LR Model Weights:\n",
      "Done.\n",
      "Total running time: 0:22:44.\n",
      "\n",
      "Building Random Forest Model...\n",
      "[*] Best RF Model AUC PR: 0.5254172910422911\n",
      "[*] Best RF Model Param (maxDepth):  6\n",
      "[*] Best RF Model Param (maxBins):  32\n",
      "[*] Best RF Model Param (numTrees):  10\n",
      "Done.\n",
      "Total running time: 0:10:59.\n",
      "\n",
      "Building Gradient-Boosted Tree Model...\n",
      "[*] Best GBT Model AUC PR: 0.3869397759103641\n",
      "[*] Best GBT Model Param (maxDepth):  8\n",
      "[*] Best GBT Model Param (maxBins):  4\n",
      "[*] Best GBT Model Param (maxIter):  10\n",
      "Done.\n",
      "Total running time: 1:20:32.\n",
      "\n",
      "Building model for predicting this label:  WillChurnInNextBin\n",
      "Building Logistic Regression Model...\n",
      "[*] Best LR Model AUC PR: 0.8426587301587302\n",
      "[*] Best LR Model Intercept:  -0.48775850784751434\n",
      "[*] Best LR Model Param (maxIter):  10\n",
      "[*] Best LR Model Param (regParam):  0.3\n",
      "[*] Best LR Model Param (elasticNetParam):  0.1\n",
      "[*] Best LR Model Weights:\n",
      "Done.\n",
      "Total running time: 0:17:40.\n",
      "\n",
      "Building Random Forest Model...\n",
      "[*] Best RF Model AUC PR: 0.48647186147186144\n",
      "[*] Best RF Model Param (maxDepth):  6\n",
      "[*] Best RF Model Param (maxBins):  32\n",
      "[*] Best RF Model Param (numTrees):  10\n",
      "Done.\n",
      "Total running time: 0:10:58.\n",
      "\n",
      "Building Gradient-Boosted Tree Model...\n",
      "[*] Best GBT Model AUC PR: 0.8341750841750841\n",
      "[*] Best GBT Model Param (maxDepth):  5\n",
      "[*] Best GBT Model Param (maxBins):  4\n",
      "[*] Best GBT Model Param (maxIter):  10\n",
      "Done.\n",
      "Total running time: 1:15:6.\n",
      "\n",
      "Building model for predicting this label:  WillChurnSoon\n",
      "Building Logistic Regression Model...\n",
      "[*] Best LR Model AUC PR: 0.7678468555330978\n",
      "[*] Best LR Model Intercept:  -0.07301344333977762\n",
      "[*] Best LR Model Param (maxIter):  10\n",
      "[*] Best LR Model Param (regParam):  0.1\n",
      "[*] Best LR Model Param (elasticNetParam):  0.3\n",
      "[*] Best LR Model Weights:\n",
      "Done.\n",
      "Total running time: 0:18:11.\n",
      "\n",
      "Building Random Forest Model...\n",
      "[*] Best RF Model AUC PR: 0.7456923662903816\n",
      "[*] Best RF Model Param (maxDepth):  6\n",
      "[*] Best RF Model Param (maxBins):  12\n",
      "[*] Best RF Model Param (numTrees):  10\n",
      "Done.\n",
      "Total running time: 0:10:23.\n",
      "\n",
      "Building Gradient-Boosted Tree Model...\n",
      "[*] Best GBT Model AUC PR: 0.7540792866189538\n",
      "[*] Best GBT Model Param (maxDepth):  3\n",
      "[*] Best GBT Model Param (maxBins):  24\n",
      "[*] Best GBT Model Param (maxIter):  10\n",
      "Done.\n",
      "Total running time: 1:27:24.\n",
      "\n"
     ]
    }
   ],
   "source": [
    "m.main()"
   ]
  },
  {
   "cell_type": "code",
   "execution_count": null,
   "metadata": {},
   "outputs": [],
   "source": []
  }
 ],
 "metadata": {
  "kernelspec": {
   "display_name": "Python 3",
   "language": "python",
   "name": "python3"
  },
  "language_info": {
   "codemirror_mode": {
    "name": "ipython",
    "version": 3
   },
   "file_extension": ".py",
   "mimetype": "text/x-python",
   "name": "python",
   "nbconvert_exporter": "python",
   "pygments_lexer": "ipython3",
   "version": "3.7.3"
  }
 },
 "nbformat": 4,
 "nbformat_minor": 2
}
